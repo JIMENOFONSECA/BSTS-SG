{
 "cells": [
  {
   "cell_type": "code",
   "execution_count": null,
   "metadata": {},
   "outputs": [],
   "source": [
    "import pandas as pd\n",
    "import json\n",
    "import datetime\n",
    "import time\n",
    "import os\n",
    "import numpy as np\n",
    "from config import DATA_METADATA_PROCESSED_FILE, DATA_BIM_RAW_FOLDER, DATA_ISO_CONSUMPTION_PROCESSED_FILE\n",
    "import matplotlib"
   ]
  },
  {
   "cell_type": "code",
   "execution_count": null,
   "metadata": {},
   "outputs": [],
   "source": [
    "meatadata =  pd.read_excel(DATA_METADATA_PROCESSED_FILE, sheets='SENSORS')\n",
    "output_path = DATA_ISO_CONSUMPTION_PROCESSED_FILE\n",
    "meatadata"
   ]
  },
  {
   "cell_type": "code",
   "execution_count": null,
   "metadata": {},
   "outputs": [],
   "source": [
    "buildings = list(set(meatadata['ID_CEA'].values))\n",
    "scenarios = {'2018': pd.date_range(start='2018-01-01', end='2018-12-31 23:00:00', freq='H'),\n",
    "             '2019': pd.date_range(start='2019-01-01', end='2019-12-31 23:00:00', freq='H')}\n",
    "df = pd.DataFrame()\n",
    "for building in buildings:\n",
    "    for scenario, timestamp in scenarios.items():\n",
    "        sg_path = os.path.join(DATA_BIM_RAW_FOLDER, scenario, 'outputs\\data\\demand', building+ \".csv\")\n",
    "        sg_gfa_path = os.path.join(DATA_BIM_RAW_FOLDER, scenario, 'outputs\\data\\demand', \"Total_demand.csv\")\n",
    "        total_deamnd = pd.read_csv(sg_gfa_path)\n",
    "        GFA_data = total_deamnd.loc[total_deamnd['Name']==building, 'GFA_m2'].values[0]\n",
    "        solar_gains_df = pd.read_csv(sg_path)[['GRID_kWh', 'Name']]\n",
    "        solar_gains_df['ISO_Whm2'] = solar_gains_df['GRID_kWh']*1000/GFA_data\n",
    "        solar_gains_df = solar_gains_df.set_index(timestamp)\n",
    "        solar_gains_df = solar_gains_df.resample('D').sum()\n",
    "        solar_gains_df['ID_CEA'] = building\n",
    "        solar_gains_df['timestamp'] = solar_gains_df.index\n",
    "        df = df.append(solar_gains_df, ignore_index=True)\n",
    "df\n",
    "#get information about the sola radiation of buildings."
   ]
  },
  {
   "cell_type": "code",
   "execution_count": null,
   "metadata": {},
   "outputs": [],
   "source": [
    "df.to_csv(output_path, index=False)"
   ]
  },
  {
   "cell_type": "code",
   "execution_count": null,
   "metadata": {
    "scrolled": true
   },
   "outputs": [],
   "source": [
    "df = df.set_index(df['timestamp'])\n",
    "visual = df[df['ID_CEA'] == buildings[24]]\n",
    "ax = visual['ISO_Whm2'].plot(color = ['C2'])\n",
    "font = {'family' : 'Arial',\n",
    "        'size'   : 18}\n",
    "ax.set_xlabel(\"\")\n",
    "ax.set_ylabel(\"Daily Energy Consumption [Wh/m2]\")\n",
    "ax.legend([\"ISO Energy Consumption\"]);\n",
    "matplotlib.rc('font', **font)"
   ]
  },
  {
   "cell_type": "code",
   "execution_count": null,
   "metadata": {},
   "outputs": [],
   "source": [
    "df = df.set_index(df['timestamp'])\n",
    "visual = df[df['ID_CEA'] == buildings[24]]\n",
    "visual['consumption'] = visual['ISO_Whm2'] * 100 /1000# typical size\n",
    "ax = visual['consumption'].plot(legend=False)\n",
    "font = {'family' : 'Arial',\n",
    "        'size'   : 18}\n",
    "ax.set_xlabel(\"\")\n",
    "ax.set_ylabel(\"Daily Consumption [kWh]\")\n",
    "matplotlib.rc('font', **font)"
   ]
  },
  {
   "cell_type": "code",
   "execution_count": null,
   "metadata": {
    "scrolled": true
   },
   "outputs": [],
   "source": [
    "from scipy.signal import savgol_filter as sg\n",
    "p = 2\n",
    "for si in df['ID_CEA'].unique():\n",
    "    index = df['ID_CEA'] == si\n",
    "    df.loc[index, 'ISO_kWh_MEAN_roll_3'] = sg(df[index].ISO_Whm2, 411, p)\n",
    "df[['ISO_Whm2']][:200].plot()"
   ]
  },
  {
   "cell_type": "code",
   "execution_count": null,
   "metadata": {},
   "outputs": [],
   "source": [
    "df[['ISO_kWh_MEAN_roll_3','ISO_Whm2']][:500].plot()"
   ]
  },
  {
   "cell_type": "code",
   "execution_count": null,
   "metadata": {},
   "outputs": [],
   "source": []
  },
  {
   "cell_type": "code",
   "execution_count": null,
   "metadata": {},
   "outputs": [],
   "source": []
  }
 ],
 "metadata": {
  "kernelspec": {
   "display_name": "Python 3",
   "language": "python",
   "name": "python3"
  },
  "language_info": {
   "codemirror_mode": {
    "name": "ipython",
    "version": 3
   },
   "file_extension": ".py",
   "mimetype": "text/x-python",
   "name": "python",
   "nbconvert_exporter": "python",
   "pygments_lexer": "ipython3",
   "version": "3.6.10"
  }
 },
 "nbformat": 4,
 "nbformat_minor": 4
}
