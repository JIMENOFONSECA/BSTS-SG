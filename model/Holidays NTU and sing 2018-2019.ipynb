{
 "cells": [
  {
   "cell_type": "code",
   "execution_count": null,
   "metadata": {
    "pycharm": {
     "is_executing": false
    }
   },
   "outputs": [],
   "source": [
    "import requests\n",
    "import pandas as pd\n",
    "import matplotlib\n",
    "import numpy as np\n",
    "from config import DATA_HOLIDAYS_PROCESSED_FILE"
   ]
  },
  {
   "cell_type": "code",
   "execution_count": null,
   "metadata": {
    "pycharm": {
     "is_executing": false
    }
   },
   "outputs": [],
   "source": [
    "API_KEY = '##b13b8edeebf4b7dd082e7df702fc94702bef7327##'\n",
    "END_POINT='https://calendarific.com/api/v2/holidays?&api_key='\n",
    "YEARS = ['2018','2019']\n",
    "COUNTRY = 'SG'\n"
   ]
  },
  {
   "cell_type": "code",
   "execution_count": null,
   "metadata": {},
   "outputs": [],
   "source": [
    "def f(x, hl):\n",
    "    if x in hl:\n",
    "        return 1\n",
    "    else:\n",
    "        return 0\n",
    "def f_remove(x, hl):\n",
    "    if x in hl:\n",
    "        return 0\n",
    "    else:\n",
    "        return x[1]"
   ]
  },
  {
   "cell_type": "code",
   "execution_count": null,
   "metadata": {},
   "outputs": [],
   "source": [
    "#get holidays from API\n",
    "holidays_list = []\n",
    "for year in YEARS:\n",
    "    url = END_POINT+API_KEY+'&country='+COUNTRY+\"&year=\"+year\n",
    "    holidays_list_dicts = requests.get(url).json()['response']['holidays']\n",
    "    holidays_list.extend([x['date']['iso'] for x in holidays_list_dicts])"
   ]
  },
  {
   "cell_type": "code",
   "execution_count": null,
   "metadata": {},
   "outputs": [],
   "source": [
    "#clean it up\n",
    "holidays_list = [x.split('T')[0] for x in holidays_list]\n",
    "earliest_date = '2018-01-01'\n",
    "latest_date = '2019-12-31'\n",
    "holidays_list_datetime = pd.to_datetime(holidays_list)\n",
    "data = pd.DataFrame({'timestamp':pd.date_range(start=earliest_date, end=latest_date, freq='D')})\n",
    "data['holiday'] = data['timestamp'].apply(lambda x: f(x, holidays_list_datetime))"
   ]
  },
  {
   "cell_type": "code",
   "execution_count": null,
   "metadata": {},
   "outputs": [],
   "source": [
    "school_holiday = pd.to_datetime(['2018-03-05',\n",
    "               '2018-03-06',\n",
    "              '2018-03-07',\n",
    "               '2018-03-08',\n",
    "               '2018-03-09',\n",
    "               '2018-10-01',\n",
    "               '2018-10-02',\n",
    "               '2018-10-03',\n",
    "               '2018-10-04',\n",
    "               '2018-10-05',\n",
    "               '2019-03-04',\n",
    "              '2019-03-05',\n",
    "              '2019-03-06',\n",
    "               '2019-03-07',\n",
    "               '2019-03-08',\n",
    "               '2019-09-30',\n",
    "               '2019-10-01',\n",
    "              '2019-10-02',\n",
    "               '2019-10-03',\n",
    "               '2019-10-04'])\n",
    "data['school_holiday'] = data['timestamp'].apply(lambda x: f(x, school_holiday))"
   ]
  },
  {
   "cell_type": "code",
   "execution_count": null,
   "metadata": {},
   "outputs": [],
   "source": [
    "#get teaching dates form NTU calendar\n",
    "teaching0 = pd.date_range(start='2018-01-15', end='2018-03-02', freq='D')\n",
    "teaching1 = pd.date_range(start='2018-03-12', end='2018-05-11', freq='D')\n",
    "\n",
    "teaching2 = pd.date_range(start='2018-08-13', end='2018-09-28', freq='D')\n",
    "teaching3 = pd.date_range(start='2018-10-08', end='2018-12-07', freq='D')\n",
    "\n",
    "teaching4 = pd.date_range(start='2019-01-14', end='2019-03-01', freq='D')\n",
    "teaching5 = pd.date_range(start='2019-03-11', end='2019-05-10', freq='D')\n",
    "teaching6 = pd.date_range(start='2019-08-13', end='2019-11-15', freq='D')\n",
    "\n",
    "teaching_time_datetime = teaching0.append(teaching1).append(teaching2).append(teaching3).append(teaching4).append(teaching5).append(teaching6)\n",
    "data['teaching_time'] =  data['timestamp'].apply(lambda x: f(x,teaching_time_datetime))\n",
    "\n",
    "# take out public holidays and weekends (no teaching) \n",
    "data['dayofweek'] = np.array(data['timestamp'].dt.dayofweek, dtype=np.uint8)\n",
    "data['weekend_days'] = data['dayofweek'].apply(lambda x: 1 if x>=5 else 0)\n",
    "# data['teaching_time'] = data[['timestamp','teaching_time']].apply(lambda x: f_remove(x, holidays_list_datetime), axis=1)\n",
    "# data['teaching_time'] = data[['teaching_time','weekend_days']].apply(lambda x: 0 if x[1]==1 else x[0], axis=1)"
   ]
  },
  {
   "cell_type": "code",
   "execution_count": null,
   "metadata": {},
   "outputs": [],
   "source": [
    "visual = data.set_index('timestamp')\n",
    "idx = [\"\",\"False\",\"\",\"\",\"\",\"\",\"True\"]\n",
    "ax = visual[['holiday', 'school_holiday', 'teaching_time']].plot(color = ['C0', 'C9', 'C8'])\n",
    "font = {'family' : 'Arial',\n",
    "        'size'   : 18}\n",
    "ax.set_xlabel(\"\")\n",
    "ax.set_ylabel(\"Boolean [-]\")\n",
    "ax.legend([\"Public Holiday\", 'School Holiday', \"Working Day\"]);\n",
    "ax.set_yticklabels(idx)\n",
    "matplotlib.rc('font', **font)"
   ]
  },
  {
   "cell_type": "code",
   "execution_count": null,
   "metadata": {},
   "outputs": [],
   "source": [
    "visual = data.set_index('timestamp')\n",
    "idx = [\"\",\"False\",\"\",\"\",\"\",\"\",\"True\"]\n",
    "ax = visual[['teaching_time']].plot(color = ['C0', 'C9', 'C8'])\n",
    "font = {'family' : 'Arial',\n",
    "        'size'   : 18}\n",
    "ax.set_xlabel(\"\")\n",
    "ax.set_ylabel(\"Boolean [-]\")\n",
    "ax.legend([\"Public Holiday\", 'School Holiday', \"Working Day\"]);\n",
    "ax.set_yticklabels(idx)\n",
    "matplotlib.rc('font', **font)"
   ]
  },
  {
   "cell_type": "code",
   "execution_count": null,
   "metadata": {},
   "outputs": [],
   "source": [
    "data[['timestamp','holiday', 'school_holiday', 'teaching_time']].to_csv(DATA_HOLIDAYS_PROCESSED_FILE, index=False)"
   ]
  }
 ],
 "metadata": {
  "kernelspec": {
   "display_name": "Python 3",
   "language": "python",
   "name": "python3"
  },
  "language_info": {
   "codemirror_mode": {
    "name": "ipython",
    "version": 3
   },
   "file_extension": ".py",
   "mimetype": "text/x-python",
   "name": "python",
   "nbconvert_exporter": "python",
   "pygments_lexer": "ipython3",
   "version": "3.6.10"
  },
  "pycharm": {
   "stem_cell": {
    "cell_type": "raw",
    "metadata": {
     "collapsed": false
    },
    "source": []
   }
  }
 },
 "nbformat": 4,
 "nbformat_minor": 4
}
