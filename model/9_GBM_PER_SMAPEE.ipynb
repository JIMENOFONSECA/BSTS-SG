{
 "cells": [
  {
   "cell_type": "code",
   "execution_count": null,
   "metadata": {},
   "outputs": [],
   "source": [
    "import pandas as pd\n",
    "import json\n",
    "import datetime\n",
    "import time\n",
    "import os\n",
    "import numpy as np\n",
    "import lightgbm as lgb\n",
    "from config import DATA_CONSUMPTION_PROCESSED_FILE, DATA_WEATHER_PROCESSED_FILE, DATA_CLUSTERS_FILE,  DATA_METADATA_PROCESSED_FILE, DATA_HOLIDAYS_PROCESSED_FILE, DATA_ISO_CONSUMPTION_PROCESSED_FILE, DATA_ENTHALPY_GRADIENTS_PROCESSED_FILE, DATA_SOLAR_GAINS_PROCESSED_FILE, DATA_GBM_CONSUMPTION_PROCESSED_FILE\n",
    "from lgbm_imputer import imputer\n",
    "from lgbm_consumption_module import LGBM_regression\n",
    "import matplotlib\n",
    "from sklearn.model_selection import GroupShuffleSplit,TimeSeriesSplit\n",
    "from auxiliary import week_of_month\n",
    "import warnings\n",
    "warnings.filterwarnings('ignore')"
   ]
  },
  {
   "cell_type": "code",
   "execution_count": null,
   "metadata": {},
   "outputs": [],
   "source": [
    "output_path = DATA_GBM_CONSUMPTION_PROCESSED_FILE"
   ]
  },
  {
   "cell_type": "code",
   "execution_count": null,
   "metadata": {
    "pycharm": {
     "is_executing": false
    }
   },
   "outputs": [],
   "source": [
    "real_consumption_df = pd.read_csv(DATA_CONSUMPTION_PROCESSED_FILE)\n",
    "real_consumption_df['timestamp'] = pd.to_datetime(real_consumption_df['timestamp'])\n",
    "print(real_consumption_df.shape[0])\n",
    "weather_data_df = pd.read_csv(DATA_WEATHER_PROCESSED_FILE)\n",
    "weather_data_df['timestamp'] = pd.to_datetime(weather_data_df['timestamp'])\n",
    "metadata_df = pd.read_excel(DATA_METADATA_PROCESSED_FILE, sheets='SENSORS')[['smapee', 'ID_CEA', 'INTERVENTION','BEDROOMS', 'OCCUPATION', 'SALARY', 'TREATMENT']]\n",
    "holidays_df = pd.read_csv(DATA_HOLIDAYS_PROCESSED_FILE)\n",
    "holidays_df['timestamp'] = pd.to_datetime(holidays_df['timestamp'])\n",
    "gradients_df = pd.read_csv(DATA_ENTHALPY_GRADIENTS_PROCESSED_FILE)\n",
    "gradients_df['timestamp'] = pd.to_datetime(gradients_df['timestamp'])\n",
    "solar_gains_df = pd.read_csv(DATA_SOLAR_GAINS_PROCESSED_FILE)\n",
    "solar_gains_df['timestamp'] = pd.to_datetime(solar_gains_df['timestamp'])\n",
    "iso_consumption_df = pd.read_csv(DATA_ISO_CONSUMPTION_PROCESSED_FILE)\n",
    "iso_consumption_df['timestamp'] = pd.to_datetime(iso_consumption_df['timestamp'])"
   ]
  },
  {
   "cell_type": "code",
   "execution_count": null,
   "metadata": {},
   "outputs": [],
   "source": [
    "# merge all the fields\n",
    "df = real_consumption_df.merge(metadata_df, left_on=['smapee', 'INTERVENTION'], right_on=['smapee', 'INTERVENTION'])\n",
    "df = df.merge(weather_data_df, left_on='timestamp', right_on='timestamp')\n",
    "df = df.merge(holidays_df, left_on='timestamp', right_on='timestamp')\n",
    "df = df.merge(gradients_df, left_on='timestamp', right_on='timestamp')\n",
    "df = df.merge(solar_gains_df, left_on=['timestamp','ID_CEA'], right_on=['timestamp','ID_CEA'])\n",
    "df = df.merge(iso_consumption_df, left_on=['timestamp','ID_CEA'], right_on=['timestamp','ID_CEA'])"
   ]
  },
  {
   "cell_type": "code",
   "execution_count": null,
   "metadata": {},
   "outputs": [],
   "source": [
    "#important so we can do the timeseries split for validation data\n",
    "df = df.drop_duplicates(['consumption_kWh','smapee','timestamp'])\n",
    "df['dayofweek'] = np.array(df['timestamp'].dt.dayofweek, dtype=np.uint8)\n",
    "df['weekday'] = df['dayofweek'].apply(lambda x: 1 if 0<=x<5 else 0)\n",
    "df['calendar_wom'] = df['timestamp'].apply(week_of_month)\n",
    "df.reset_index(inplace=True, drop=True)\n",
    "df"
   ]
  },
  {
   "cell_type": "code",
   "execution_count": null,
   "metadata": {},
   "outputs": [],
   "source": [
    "#get the period used for training (period before the intervention)\n",
    "pre_intervention_period = ['2018-01-01', '2018-04-20']\n",
    "range_pre_intervention_period = pd.date_range(start=pre_intervention_period[0], end=pre_intervention_period[1], freq='D')"
   ]
  },
  {
   "cell_type": "code",
   "execution_count": null,
   "metadata": {},
   "outputs": [],
   "source": [
    "#data_train = df[df['timestamp'].isin(range_pre_intervention_period)]\n",
    "#data_train = data_train.reset_index(drop=True)\n",
    "data_train = df[df['TREATMENT']=='CONTROL']\n",
    "data_train"
   ]
  },
  {
   "cell_type": "code",
   "execution_count": null,
   "metadata": {},
   "outputs": [],
   "source": [
    "%load_ext autoreload\n",
    "%autoreload 2\n",
    "target_feature_name = 'consumption_kWh'\n",
    "numerical_features_list = ['DEG_C_kJperKg',\n",
    "                           'DEG_DEHUM_kJperKg',\n",
    "                           'solar_gain_Whm2',\n",
    "                           'ISO_consumption_Whm2',\n",
    "                           'Wind_ms']\n",
    "categorical_features_list = ['smapee',\n",
    "                             'holiday',\n",
    "                             'school_holiday',\n",
    "                             'teaching_time',\n",
    "                             'dayofweek',\n",
    "                             'SALARY',\n",
    "                             'BEDROOMS',\n",
    "                             'calendar_wom',\n",
    "                             'weekday'\n",
    "                            ]\n",
    "get_best_parameters = False\n",
    "# {'boosting': 'dart', 'learning_rate': 0.01, 'max_depth': -1, 'min_data_in_leaf': 100, 'num_iterations': 20000, 'num_leaves': 16}\n",
    "# -0.4012485277365735\n",
    "# Fold  5 RMSLE: 0.458409 iwth scaler in X\n",
    "# Full RMSLE score 1.035892\n",
    "for c in categorical_features_list:\n",
    "    data_train[c] = data_train[c].astype('category')\n",
    "params = {'learning_rate': 0.01,\n",
    "          'num_leaves': 4,\n",
    "          'max_depth': -1,\n",
    "          'min_data_in_leaf': 100,\n",
    "          'num_iterations': 20000,\n",
    "          'boosting': 'gbdt',\n",
    "          'objective': 'rmse',\n",
    "          'metric': 'rmse'}\n",
    "models, errors_train, errors_test = LGBM_regression(df=data_train,\n",
    "                            params=params,\n",
    "                            target_feature_name = target_feature_name,\n",
    "                            numerical_features_list = numerical_features_list,\n",
    "                            categorical_features_list = categorical_features_list,\n",
    "                            get_best_parameters =get_best_parameters,\n",
    "                            groupby='smapee')"
   ]
  },
  {
   "cell_type": "code",
   "execution_count": null,
   "metadata": {},
   "outputs": [],
   "source": [
    "errors_train, errors_test"
   ]
  },
  {
   "cell_type": "code",
   "execution_count": null,
   "metadata": {},
   "outputs": [],
   "source": [
    "splits = len(models)\n",
    "font = {'family' : 'Arial',\n",
    "    'size'   : 18}\n",
    "for model in models:\n",
    "    ax = lgb.plot_importance(model)\n",
    "    matplotlib.rc('font', **font)"
   ]
  },
  {
   "cell_type": "code",
   "execution_count": null,
   "metadata": {},
   "outputs": [],
   "source": [
    "final_model = models[0]\n",
    "features = numerical_features_list + categorical_features_list\n",
    "for c in categorical_features_list:\n",
    "    df[c] = df[c].astype('category')\n",
    "df['GBM_consumption_kWh'] = np.exp(final_model.predict(df[features]))-1\n",
    "df"
   ]
  },
  {
   "cell_type": "code",
   "execution_count": null,
   "metadata": {},
   "outputs": [],
   "source": [
    "visual = df.set_index(pd.to_datetime(df['timestamp']))\n",
    "visual = visual[visual['smapee'] == \"ID28096\"]\n",
    "visual = visual.loc['2018-01-01':'2018-04-20']\n",
    "ax = visual[['consumption_kWh','GBM_consumption_kWh']].plot()\n",
    "font = {'family' : 'Arial',\n",
    "        'size'   : 18}\n",
    "ax.set_xlabel(\"\")\n",
    "ax.set_ylabel(\"Daily Energy Consumption [kWh]\")\n",
    "ax.legend([\"GBM Energy Consumption\"]);\n",
    "matplotlib.rc('font', **font)"
   ]
  },
  {
   "cell_type": "code",
   "execution_count": null,
   "metadata": {},
   "outputs": [],
   "source": [
    "visual = df.set_index(pd.to_datetime(df['timestamp']))\n",
    "visual = visual[visual['smapee'] == \"ID28096\"]\n",
    "visual = visual\n",
    "ax = visual[['consumption_kWh','GBM_consumption_kWh']].plot()\n",
    "font = {'family' : 'Arial',\n",
    "        'size'   : 18}\n",
    "ax.set_xlabel(\"\")\n",
    "ax.set_ylabel(\"Daily Energy Consumption [kWh]\")\n",
    "ax.legend([\"GBM Energy Consumption\"]);\n",
    "matplotlib.rc('font', **font)"
   ]
  },
  {
   "cell_type": "code",
   "execution_count": null,
   "metadata": {
    "scrolled": true
   },
   "outputs": [],
   "source": [
    "visual = df.set_index(pd.to_datetime(df['timestamp']))\n",
    "visual = visual[visual['smapee'] == \"ID28096\"]\n",
    "ax = visual['GBM_consumption_kWh'].plot(color = ['C4'])\n",
    "font = {'family' : 'Arial',\n",
    "        'size'   : 18}\n",
    "ax.set_xlabel(\"\")\n",
    "ax.set_ylabel(\"Daily Energy Consumption [kWh]\")\n",
    "ax.legend([\"GBM Energy Consumption\"]);\n",
    "matplotlib.rc('font', **font)"
   ]
  },
  {
   "cell_type": "code",
   "execution_count": null,
   "metadata": {},
   "outputs": [],
   "source": [
    "df[['timestamp','GBM_consumption_kWh','smapee','INTERVENTION']].to_csv(DATA_GBM_CONSUMPTION_PROCESSED_FILE, index=False)\n",
    "df[['timestamp','GBM_consumption_kWh','smapee','INTERVENTION']]"
   ]
  },
  {
   "cell_type": "code",
   "execution_count": null,
   "metadata": {},
   "outputs": [],
   "source": [
    "import seaborn as sn\n",
    "import matplotlib.pyplot as plt\n",
    "for c in categorical_features_list:\n",
    "    df[c] = df[c].astype('float32')\n",
    "corrMatrix = df[features].corr()\n",
    "plot = sn.heatmap(corrMatrix, annot=False)\n",
    "sn.set(font_scale=1)\n",
    "plt.show()"
   ]
  },
  {
   "cell_type": "code",
   "execution_count": null,
   "metadata": {},
   "outputs": [],
   "source": [
    "plt.figure(figsize =(6,4))\n",
    "plot = sn.heatmap(corrMatrix, annot=False)\n",
    "sn.set(font_scale=0.8)\n",
    "plot.set(yticklabels=[r'$x_{15}$',r'$x_{16}$',r'$x_{14}$',r'$x_{17}$', r'$x_{5}$',\n",
    "                      r'$x_{1}$', r'$x_{11}$',r'$x_{12}$',r'$x_{13}$',r'$x_{7}$'])\n",
    "plot.set_xticklabels([r'$x_{15}$',r'$x_{16}$',r'$x_{14}$',r'$x_{17}$', r'$x_{5}$',\n",
    "                      r'$x_{1}$', r'$x_{11}$',r'$x_{12}$',r'$x_{13}$',r'$x_{7}$'],rotation=0)\n",
    "plt.show()"
   ]
  },
  {
   "cell_type": "code",
   "execution_count": null,
   "metadata": {},
   "outputs": [],
   "source": [
    "df"
   ]
  },
  {
   "cell_type": "code",
   "execution_count": null,
   "metadata": {},
   "outputs": [],
   "source": []
  }
 ],
 "metadata": {
  "kernelspec": {
   "display_name": "Python 3",
   "language": "python",
   "name": "python3"
  },
  "language_info": {
   "codemirror_mode": {
    "name": "ipython",
    "version": 3
   },
   "file_extension": ".py",
   "mimetype": "text/x-python",
   "name": "python",
   "nbconvert_exporter": "python",
   "pygments_lexer": "ipython3",
   "version": "3.6.10"
  }
 },
 "nbformat": 4,
 "nbformat_minor": 4
}
