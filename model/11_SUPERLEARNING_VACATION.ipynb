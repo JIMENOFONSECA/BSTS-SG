{
 "cells": [
  {
   "cell_type": "code",
   "execution_count": null,
   "metadata": {},
   "outputs": [],
   "source": [
    "import pandas as pd\n",
    "import json\n",
    "import datetime\n",
    "import time\n",
    "import os\n",
    "import math\n",
    "import numpy as np\n",
    "from config import DATA_CONSUMPTION_PROCESSED_FILE, DATA_VACATIONS_FILE, DATA_METADATA_PROCESSED_FILE, DATA_VACATIONS_INTERVENTION_FILE\n",
    "import matplotlib\n",
    "from sklearn import mixture"
   ]
  },
  {
   "cell_type": "code",
   "execution_count": null,
   "metadata": {
    "pycharm": {
     "is_executing": false
    }
   },
   "outputs": [],
   "source": [
    "quantile_lower = 0.10\n",
    "quantile_upper = 0.90"
   ]
  },
  {
   "cell_type": "code",
   "execution_count": null,
   "metadata": {},
   "outputs": [],
   "source": [
    "real_consumption_df = pd.read_csv(DATA_CONSUMPTION_PROCESSED_FILE)\n",
    "real_consumption_df['timestamp'] = pd.to_datetime(real_consumption_df['timestamp'])\n",
    "test = real_consumption_df.drop_duplicates(['timestamp','smapee'])\n",
    "test.reset_index(inplace=True)\n",
    "test = real_consumption_df.drop(['timestamp','INTERVENTION'], axis=1)\n",
    "minimum = test.groupby('smapee').quantile(quantile_lower)\n",
    "min_max = minimum.merge(test.groupby('smapee').quantile(quantile_upper), left_index=True, right_index=True, suffixes=(\"min\",\"max\"))"
   ]
  },
  {
   "cell_type": "code",
   "execution_count": null,
   "metadata": {},
   "outputs": [],
   "source": [
    "result = real_consumption_df.merge(min_max, left_on='smapee', left_index=False, right_index=True)\n",
    "result['Full Occupancy'] = result.apply(lambda x: -1 if x['CONSUMPTION_kWh']<=x['CONSUMPTION_kWhmin'] else 0, axis=1)\n",
    "result['Null Occupancy'] = result.apply(lambda x: 1 if x['CONSUMPTION_kWh']>=x['CONSUMPTION_kWhmax'] else 0, axis=1)\n",
    "# result = add_sg(result, group='smapee')\n",
    "result"
   ]
  },
  {
   "cell_type": "code",
   "execution_count": null,
   "metadata": {},
   "outputs": [],
   "source": [
    "graph = result[result['smapee']=='ID28763']\n",
    "graph = graph.drop_duplicates('timestamp')\n",
    "graph = graph.sort_values(by=['timestamp'])\n",
    "graph = graph.reset_index(drop=True)\n",
    "graph['timestamp'] = pd.to_datetime(graph['timestamp'].values)\n",
    "graph = graph.set_index('timestamp')"
   ]
  },
  {
   "cell_type": "code",
   "execution_count": null,
   "metadata": {
    "scrolled": true
   },
   "outputs": [],
   "source": [
    "graph['Daily Consumption'] = graph['CONSUMPTION_kWh']\n",
    "visual = graph[['Daily Consumption']]\n",
    "font = {'family' : 'Arial',\n",
    "        'size'   : 18}\n",
    "ax = visual.plot()\n",
    "ax.set_xlabel(\"\")\n",
    "ax.legend(['Daily Consumption [kWh]']);\n",
    "matplotlib.rc('font', **font)\n",
    "plt.rcParams[\"figure.figsize\"] = (6,3)"
   ]
  },
  {
   "cell_type": "code",
   "execution_count": null,
   "metadata": {},
   "outputs": [],
   "source": [
    "visual = graph[['Full Occupancy', 'Null Occupancy']]\n",
    "visual['Full Occupancy'] = -visual['Full Occupancy'] #just for graphical properties\n",
    "font = {'family' : 'Arial',\n",
    "        'size'   : 18}\n",
    "ax = visual.plot()\n",
    "ax.set_xlabel(\"\")\n",
    "ax.set_ylabel(\"Boolean [-]\")\n",
    "ax.legend(['Full Occupancy', 'Null Occupancy']);\n",
    "matplotlib.rc('font', **font)\n",
    "idx = [\"\",\"0\",\"\",\"1\"]\n",
    "ax.set_yticklabels(idx)\n",
    "plt.rcParams[\"figure.figsize\"] = (6,3)"
   ]
  },
  {
   "cell_type": "code",
   "execution_count": null,
   "metadata": {},
   "outputs": [],
   "source": [
    "result[['smapee','timestamp', 'EMPTY_DAY', 'FULL_DAY', 'INTERVENTION']].to_csv(DATA_VACATIONS_FILE, index=False)"
   ]
  },
  {
   "cell_type": "markdown",
   "metadata": {},
   "source": [
    "# per intervention"
   ]
  },
  {
   "cell_type": "code",
   "execution_count": null,
   "metadata": {},
   "outputs": [],
   "source": [
    "quantile_lower = 0.10\n",
    "quantile_upper = 0.90\n",
    "group = real_consumption_df.groupby(['timestamp','INTERVENTION'])[['CONSUMPTION_kWh']].mean()\n",
    "group = group.reset_index()\n",
    "test = group.drop(['timestamp'], axis=1)\n",
    "minimum = test.groupby('INTERVENTION').quantile(quantile_lower)\n",
    "min_max = minimum.merge(test.groupby('INTERVENTION').quantile(quantile_upper), left_index=True, right_index=True, suffixes=(\"min\",\"max\"))\n",
    "result_group = group.merge(min_max, left_on='INTERVENTION', left_index=False, right_index=True)\n",
    "result_group['EMPTY_DAY_INT_'+str(quantile_lower)] = result_group.apply(lambda x: 1 if x['CONSUMPTION_kWh']<=x['CONSUMPTION_kWhmin'] else 0, axis=1)\n",
    "result_group['FULL_DAY_INT_'+str(quantile_upper)] = result_group.apply(lambda x: 1 if x['CONSUMPTION_kWh']>=x['CONSUMPTION_kWhmax'] else 0, axis=1)\n",
    "result_group = result_group.set_index('timestamp')    \n",
    "    \n",
    "quantile_lower = 0.25\n",
    "quantile_upper = 0.75\n",
    "group = real_consumption_df.groupby(['timestamp','INTERVENTION'])[['CONSUMPTION_kWh']].mean()\n",
    "group = group.reset_index()\n",
    "test = group.drop(['timestamp'], axis=1)\n",
    "minimum = test.groupby('INTERVENTION').quantile(quantile_lower)\n",
    "min_max = minimum.merge(test.groupby('INTERVENTION').quantile(quantile_upper), left_index=True, right_index=True, suffixes=(\"min\",\"max\"))\n",
    "\n",
    "result_group2 = group.merge(min_max, left_on='INTERVENTION', left_index=False, right_index=True)\n",
    "result_group2['EMPTY_DAY_INT_'+str(quantile_lower)] = result_group2.apply(lambda x: 1 if x['CONSUMPTION_kWh']<=x['CONSUMPTION_kWhmin'] else 0, axis=1)\n",
    "result_group2['FULL_DAY_INT_'+str(quantile_upper)] = result_group2.apply(lambda x: 1 if x['CONSUMPTION_kWh']>=x['CONSUMPTION_kWhmax'] else 0, axis=1)\n",
    "result_group2 = result_group2.set_index('timestamp')    \n",
    "\n",
    "result_group = result_group.merge(result_group2, on=['timestamp','INTERVENTION'])"
   ]
  },
  {
   "cell_type": "code",
   "execution_count": null,
   "metadata": {},
   "outputs": [],
   "source": [
    "result_group[['EMPTY_DAY_INT_0.1','FULL_DAY_INT_0.9', 'EMPTY_DAY_INT_0.25','FULL_DAY_INT_0.75', 'INTERVENTION']].to_csv(DATA_VACATIONS_INTERVENTION_FILE, index=True)"
   ]
  },
  {
   "cell_type": "code",
   "execution_count": null,
   "metadata": {},
   "outputs": [],
   "source": [
    "result_group"
   ]
  },
  {
   "cell_type": "code",
   "execution_count": null,
   "metadata": {},
   "outputs": [],
   "source": []
  }
 ],
 "metadata": {
  "kernelspec": {
   "display_name": "Python 3",
   "language": "python",
   "name": "python3"
  },
  "language_info": {
   "codemirror_mode": {
    "name": "ipython",
    "version": 3
   },
   "file_extension": ".py",
   "mimetype": "text/x-python",
   "name": "python",
   "nbconvert_exporter": "python",
   "pygments_lexer": "ipython3",
   "version": "3.6.10"
  }
 },
 "nbformat": 4,
 "nbformat_minor": 4
}
