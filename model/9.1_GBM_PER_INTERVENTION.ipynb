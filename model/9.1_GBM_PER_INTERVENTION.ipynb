{
 "cells": [
  {
   "cell_type": "code",
   "execution_count": null,
   "metadata": {
    "pycharm": {
     "is_executing": false
    }
   },
   "outputs": [],
   "source": [
    "import pandas as pd\n",
    "import json\n",
    "import datetime\n",
    "import time\n",
    "import os\n",
    "import numpy as np\n",
    "from lgbm_consumption_module import data_preprocessing_interventions, lgbm_regression_efecto_acumulado_con_linea_base_del_experimento\n",
    "import matplotlib\n",
    "from auxiliary import graph_check_cumulative_bsts, graph_check_gbm_dist, graph_check_gbm_timeseries, prepare_data_synthetic_bsts, prepare_data_control_bsts\n",
    "from config import DATA_GBM_CONSUMPTION_PROCESSED_FILE_AGGREGATED\n",
    "import seaborn as sns\n",
    "from sklearn.metrics import mean_squared_error\n",
    "import warnings\n",
    "warnings.filterwarnings('ignore')\n",
    "from causalimpact import CausalImpact"
   ]
  },
  {
   "cell_type": "code",
   "execution_count": null,
   "metadata": {
    "scrolled": true
   },
   "outputs": [],
   "source": [
    "#get data in format ready\n",
    "data_mean = data_preprocessing_interventions()"
   ]
  },
  {
   "cell_type": "code",
   "execution_count": null,
   "metadata": {
    "scrolled": true
   },
   "outputs": [],
   "source": [
    "get_best_features = False\n",
    "get_best_parameters = False\n",
    "use_best_features = True\n",
    "for alpha in [\"0.975\", \"0.50\", \"0.025\"]:\n",
    "    print(\"QUARTILE {}\".format(alpha))\n",
    "    data_mean = lgbm_regression_efecto_acumulado_con_linea_base_del_experimento(alpha,\n",
    "                                                                    data_mean,\n",
    "                                                                    get_best_parameters=get_best_parameters,\n",
    "                                                                    get_best_features=get_best_features,\n",
    "                                                                    use_best_features=use_best_features)"
   ]
  },
  {
   "cell_type": "code",
   "execution_count": null,
   "metadata": {
    "scrolled": false
   },
   "outputs": [],
   "source": [
    "# now calculate BSTS linear model one covatiate (GBM) and check plots\n",
    "X_names = ['GBM_consumption_kWh_0.50','GBM_consumption_kWh_0.975','GBM_consumption_kWh_0.025']#\n",
    "graph_check_cumulative_bsts(data_mean, X_names)"
   ]
  },
  {
   "cell_type": "code",
   "execution_count": null,
   "metadata": {},
   "outputs": [],
   "source": [
    "interventions_list = data_mean['INTERVENTION'].unique()\n",
    "data_mean['valid1lp'] = np.log1p(data_mean['GBM_consumption_kWh_0.50'])\n",
    "data_mean['measured1lp'] = np.log1p(data_mean['CONSUMPTION_kWh'])\n",
    "total_rmsle = 0.0\n",
    "for intervention in interventions_list:\n",
    "    test = data_mean[data_mean['INTERVENTION']==intervention]\n",
    "    rmsle = round(np.sqrt(mean_squared_error(test.measured1lp, test.valid1lp)),4)\n",
    "    print(\"the RSMLE for intervention {} is {}\".format(intervention, rmsle))\n",
    "    total_rmsle += rmsle\n",
    "total_rmsle = round(total_rmsle/len(interventions_list),4)\n",
    "print(\"THE AVERAGE RSMLE FOR ALL INTERVENTIONS IS {}\".format(total_rmsle))"
   ]
  },
  {
   "cell_type": "code",
   "execution_count": null,
   "metadata": {
    "scrolled": true
   },
   "outputs": [],
   "source": [
    "# Check behavior of timeseries per group (observation and GBM model)\n",
    "X_names = ['GBM_consumption_kWh_0.50']\n",
    "graph_check_gbm_timeseries(data_mean, X_names, y_limits=[7.5,20])"
   ]
  },
  {
   "cell_type": "code",
   "execution_count": null,
   "metadata": {
    "scrolled": true
   },
   "outputs": [],
   "source": [
    "# Check behavior of timeseries per group distribution (observation and GBM model)\n",
    "X_names = ['GBM_consumption_kWh_0.50']\n",
    "graph_check_gbm_dist(data_mean, X_names)"
   ]
  },
  {
   "cell_type": "code",
   "execution_count": null,
   "metadata": {},
   "outputs": [],
   "source": [
    "data_mean.to_csv(DATA_GBM_CONSUMPTION_PROCESSED_FILE_AGGREGATED)"
   ]
  },
  {
   "cell_type": "code",
   "execution_count": null,
   "metadata": {},
   "outputs": [],
   "source": []
  }
 ],
 "metadata": {
  "kernelspec": {
   "display_name": "Python 3",
   "language": "python",
   "name": "python3"
  },
  "language_info": {
   "codemirror_mode": {
    "name": "ipython",
    "version": 3
   },
   "file_extension": ".py",
   "mimetype": "text/x-python",
   "name": "python",
   "nbconvert_exporter": "python",
   "pygments_lexer": "ipython3",
   "version": "3.6.10"
  }
 },
 "nbformat": 4,
 "nbformat_minor": 4
}
