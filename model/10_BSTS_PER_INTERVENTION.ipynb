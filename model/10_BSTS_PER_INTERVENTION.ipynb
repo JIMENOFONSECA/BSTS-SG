{
 "cells": [
  {
   "cell_type": "code",
   "execution_count": null,
   "metadata": {
    "pycharm": {
     "is_executing": false
    }
   },
   "outputs": [],
   "source": [
    "import pandas as pd\n",
    "import json\n",
    "import datetime\n",
    "import time\n",
    "import os\n",
    "import numpy as np\n",
    "from config import DATA_BSTS_STATS_FILE, INTERVENTION_CALENDAR, DATA_VACATIONS_INTERVENTION_FILE, DATA_CONSUMPTION_PROCESSED_FILE, DATA_WEATHER_PROCESSED_FILE,  DATA_METADATA_PROCESSED_FILE, DATA_HOLIDAYS_PROCESSED_FILE, DATA_ISO_CONSUMPTION_PROCESSED_FILE, DATA_ENTHALPY_GRADIENTS_PROCESSED_FILE, DATA_SOLAR_GAINS_PROCESSED_FILE, DATA_GBM_CONSUMPTION_PROCESSED_FILE_AGGREGATED\n",
    "import matplotlib\n",
    "import matplotlib.pyplot as plt\n",
    "import os\n",
    "import sys\n",
    "from causalimpact import CausalImpact\n",
    "import warnings\n",
    "from auxiliary import graph_check_all_bsts, graph_check_all_bsts_control, week_of_month,prepare_data_synthetic_bsts, graph_check_all_bsts_table, graph_point_effects\n",
    "warnings.filterwarnings('ignore')"
   ]
  },
  {
   "cell_type": "code",
   "execution_count": null,
   "metadata": {
    "pycharm": {
     "is_executing": false
    }
   },
   "outputs": [],
   "source": [
    "data_mean = pd.read_csv(DATA_GBM_CONSUMPTION_PROCESSED_FILE_AGGREGATED)"
   ]
  },
  {
   "cell_type": "code",
   "execution_count": null,
   "metadata": {},
   "outputs": [],
   "source": [
    "def prepare_data_control(data, INTERVENTION):\n",
    "    #let's get the data for the first experiment of sensors in VIEW\n",
    "        #let's get the data for the first experiment of sensors in VIEW\n",
    "    df = data.copy()\n",
    "    data_selection = df[df['INTERVENTION']== INTERVENTION]\n",
    "    data_control = df[df['INTERVENTION']== list(INTERVENTION)[0]+'CONTROL']\n",
    "    data_mean = data_selection.merge(data_control, left_index=True, right_index=True, suffixes=('', '_y'))\n",
    "    dict_info = {'y':data_mean['consumption_kWh'], \n",
    "                 'x1':data_mean['consumption_kWh_y'],}\n",
    "    data = pd.DataFrame(dict_info)\n",
    "    return data"
   ]
  },
  {
   "cell_type": "code",
   "execution_count": null,
   "metadata": {},
   "outputs": [],
   "source": [
    "#check graph\n",
    "def graph_bsts(ci, end_intervention_date):\n",
    "    font = {'family' : 'Arial',\n",
    "            'size'   : 14}\n",
    "    ax = ci.plot(figsize = (7,7), end_intervention_date=end_intervention_date)\n",
    "    matplotlib.rc('font', **font)\n",
    "    return ax"
   ]
  },
  {
   "cell_type": "code",
   "execution_count": null,
   "metadata": {
    "scrolled": true
   },
   "outputs": [],
   "source": [
    "#MAKE GRAPH COMPARING WITH CONTROL GROUP\n",
    "%load_ext autoreload\n",
    "%autoreload 2\n",
    "X_names = ['GBM_consumption_kWh_0.50','GBM_consumption_kWh_0.975','GBM_consumption_kWh_0.025']\n",
    "ci, data_synth = graph_check_all_bsts(data_mean, '1T1', X_names, title= \"(a) Treatment T1\")\n",
    "ci, data_control = graph_check_all_bsts_control(data_mean, '1T1', X_names, title= \"(a) Treatment T1\")"
   ]
  },
  {
   "cell_type": "code",
   "execution_count": null,
   "metadata": {
    "scrolled": true
   },
   "outputs": [],
   "source": [
    "data = data_synth.merge(data_control, left_index=True, right_index=True)\n",
    "data = data.set_index(pd.to_datetime(data.index))\n",
    "visual = data[['Observation_x', 'Bayes. Synth. Control Group', 'Random. Control Group']]\n",
    "font = {'family' : 'Arial',\n",
    "        'size'   : 18}\n",
    "ax = visual[:60].plot()\n",
    "ax.set_xlabel(\"\")\n",
    "ax.set_ylabel('Daily Consumption [kWh]')\n",
    "ax.legend(['Observation', 'Bayes. Synth, Control Group','Random. Control Group']);\n",
    "matplotlib.rc('font', **font)\n",
    "plt.rcParams[\"figure.figsize\"] = (6,4)"
   ]
  },
  {
   "cell_type": "markdown",
   "metadata": {},
   "source": [
    "# INTERVENTION 1T1"
   ]
  },
  {
   "cell_type": "code",
   "execution_count": null,
   "metadata": {
    "scrolled": false
   },
   "outputs": [],
   "source": [
    "%load_ext autoreload\n",
    "%autoreload 2\n",
    "X_names = ['GBM_consumption_kWh_0.50','GBM_consumption_kWh_0.975','GBM_consumption_kWh_0.025']\n",
    "ci = graph_check_all_bsts(data_mean, '1T1', X_names, title= \"(a) Treatment T1\")"
   ]
  },
  {
   "cell_type": "code",
   "execution_count": null,
   "metadata": {
    "scrolled": false
   },
   "outputs": [],
   "source": [
    "ci =graph_check_all_bsts(data_mean, '1T2', X_names, title= \"(b) Treatment T2\")\n",
    "print(ci.summary_data)\n",
    "print(ci.summary())\n",
    "print(ci.summary('report'))"
   ]
  },
  {
   "cell_type": "code",
   "execution_count": null,
   "metadata": {
    "scrolled": true
   },
   "outputs": [],
   "source": [
    "graph_check_all_bsts(data_mean, '2T4', X_names, title= \"(a) Treatment T3\")"
   ]
  },
  {
   "cell_type": "code",
   "execution_count": null,
   "metadata": {},
   "outputs": [],
   "source": [
    "graph_check_all_bsts(data_mean, '2T5', X_names, title= \"(b) Treatment T4\")"
   ]
  },
  {
   "cell_type": "code",
   "execution_count": null,
   "metadata": {
    "scrolled": false
   },
   "outputs": [],
   "source": [
    "ci = graph_check_all_bsts(data_mean, '3T1', X_names, title= \"(b) Treatment T2'\")\n",
    "print(ci.summary('report'))\n",
    "print(ci.summary())"
   ]
  },
  {
   "cell_type": "code",
   "execution_count": null,
   "metadata": {},
   "outputs": [],
   "source": [
    "ci = graph_check_all_bsts(data_mean, '3T2', X_names, title= \"(a) Treatment T1'\")\n",
    "print(ci.summary('report'))\n",
    "print(ci.summary())"
   ]
  },
  {
   "cell_type": "markdown",
   "metadata": {},
   "source": [
    "# calculate summary table"
   ]
  },
  {
   "cell_type": "code",
   "execution_count": null,
   "metadata": {},
   "outputs": [],
   "source": [
    "%load_ext autoreload\n",
    "%autoreload 2\n",
    "X_names = ['GBM_consumption_kWh_0.50','GBM_consumption_kWh_0.975','GBM_consumption_kWh_0.025']\n",
    "interventions = ['1T1', '1T2', '2T4', '2T5', '3T2', '3T1']\n",
    "samples = [16, 18, 22, 18, 16, 18]\n",
    "final_data = pd.DataFrame()\n",
    "for intervention, n in zip(interventions, samples):\n",
    "    final_data = final_data.append(graph_check_all_bsts_table(data_mean, intervention, X_names, n=n),ignore_index=True)"
   ]
  },
  {
   "cell_type": "code",
   "execution_count": null,
   "metadata": {},
   "outputs": [],
   "source": [
    "final_data"
   ]
  },
  {
   "cell_type": "code",
   "execution_count": null,
   "metadata": {},
   "outputs": [],
   "source": [
    "final_data.to_csv(DATA_BSTS_STATS_FILE)"
   ]
  },
  {
   "cell_type": "markdown",
   "metadata": {},
   "source": [
    "# calculate significance among groups"
   ]
  },
  {
   "cell_type": "code",
   "execution_count": null,
   "metadata": {},
   "outputs": [],
   "source": [
    "%load_ext autoreload\n",
    "%autoreload 2\n",
    "X_names = ['GBM_consumption_kWh_0.50','GBM_consumption_kWh_0.975','GBM_consumption_kWh_0.025']\n",
    "interventions = ['1T1', '1T2', '2T4', '2T5', '3T2', '3T1']\n",
    "interventions_name = ['T1', 'T2', 'T3', 'T4', \"T1'\", \"T2'\"]\n",
    "samples = [16, 18, 22, 18, 16, 18]\n",
    "final_data = {}\n",
    "for intervention, name in zip(interventions,interventions_name):\n",
    "    final_data[name] = graph_point_effects(data_mean, intervention, X_names)"
   ]
  },
  {
   "cell_type": "code",
   "execution_count": null,
   "metadata": {},
   "outputs": [],
   "source": [
    "import numpy as np\n",
    "from scipy.stats import mannwhitneyu\n",
    "memory = []\n",
    "for d1 in final_data.keys():\n",
    "    for d2 in final_data.keys():\n",
    "        if d1 != d2:\n",
    "            if ((d1, d2) not in memory) and ((d2, d1) not in memory):\n",
    "                memory.append((d1, d2))\n",
    "                stat, p = mannwhitneyu(final_data[d1], final_data[d2])\n",
    "                print('Results for {} and {} : p={:.3f}'.format(d1, d2, p))"
   ]
  },
  {
   "cell_type": "code",
   "execution_count": null,
   "metadata": {},
   "outputs": [],
   "source": [
    "memory"
   ]
  },
  {
   "cell_type": "code",
   "execution_count": null,
   "metadata": {},
   "outputs": [],
   "source": []
  }
 ],
 "metadata": {
  "kernelspec": {
   "display_name": "Python 3",
   "language": "python",
   "name": "python3"
  },
  "language_info": {
   "codemirror_mode": {
    "name": "ipython",
    "version": 3
   },
   "file_extension": ".py",
   "mimetype": "text/x-python",
   "name": "python",
   "nbconvert_exporter": "python",
   "pygments_lexer": "ipython3",
   "version": "3.6.10"
  }
 },
 "nbformat": 4,
 "nbformat_minor": 4
}
