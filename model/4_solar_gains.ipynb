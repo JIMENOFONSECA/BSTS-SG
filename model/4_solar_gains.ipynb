{
 "cells": [
  {
   "cell_type": "code",
   "execution_count": null,
   "metadata": {},
   "outputs": [],
   "source": [
    "import pandas as pd\n",
    "import json\n",
    "import datetime\n",
    "import time\n",
    "import os\n",
    "import numpy as np\n",
    "from config import DATA_METADATA_PROCESSED_FILE, DATA_BIM_RAW_FOLDER, DATA_SOLAR_GAINS_PROCESSED_FILE\n",
    "import matplotlib"
   ]
  },
  {
   "cell_type": "code",
   "execution_count": null,
   "metadata": {},
   "outputs": [],
   "source": [
    "meatadata =  pd.read_excel(DATA_METADATA_PROCESSED_FILE, sheets='SENSORS')\n",
    "output_path = DATA_SOLAR_GAINS_PROCESSED_FILE\n",
    "meatadata"
   ]
  },
  {
   "cell_type": "code",
   "execution_count": null,
   "metadata": {},
   "outputs": [],
   "source": [
    "buildings = list(set(meatadata['ID_CEA'].values))\n",
    "scenarios = {'2018': pd.date_range(start='2018-01-01', end='2018-12-31 23:00:00', freq='H'),\n",
    "             '2019': pd.date_range(start='2019-01-01', end='2019-12-31 23:00:00', freq='H')}\n",
    "df = pd.DataFrame()\n",
    "for building in buildings:\n",
    "    for scenario, timestamp in scenarios.items():\n",
    "        sg_windows_path = os.path.join(DATA_BIM_RAW_FOLDER, scenario, 'outputs\\data\\solar-radiation', building+ \"_radiation.csv\")\n",
    "        sg_path = os.path.join(DATA_BIM_RAW_FOLDER, scenario, 'outputs\\data\\demand', building+ \".csv\")\n",
    "        solar_gains_windows_area = pd.read_csv(sg_windows_path)[['windows_west_m2','windows_east_m2', 'windows_south_m2', 'windows_north_m2']].sum(axis=1)[0]\n",
    "        solar_gains_df = pd.read_csv(sg_path)[['I_sol_kWh', 'Name']]\n",
    "        solar_gains_df['SG_Whm2'] = solar_gains_df['I_sol_kWh']/solar_gains_windows_area\n",
    "        solar_gains_df = solar_gains_df.set_index(timestamp)\n",
    "        solar_gains_df = solar_gains_df.resample('D').sum()\n",
    "        solar_gains_df['ID_CEA'] = building\n",
    "        solar_gains_df['timestamp'] = solar_gains_df.index\n",
    "        df = df.append(solar_gains_df, ignore_index=True)\n",
    "df\n",
    "#get information about the sola radiation of buildings."
   ]
  },
  {
   "cell_type": "code",
   "execution_count": null,
   "metadata": {},
   "outputs": [],
   "source": [
    "df.to_csv(output_path, index=False)"
   ]
  },
  {
   "cell_type": "code",
   "execution_count": null,
   "metadata": {},
   "outputs": [],
   "source": [
    "df = df.set_index(df['timestamp'])\n",
    "visual = df[df['ID_CEA'] == buildings[10]]\n",
    "ax = visual['SG_Whm2'].plot(color = ['C8'])\n",
    "font = {'family' : 'Arial',\n",
    "        'size'   : 18}\n",
    "ax.set_xlabel(\"\")\n",
    "ax.set_ylabel(\"Daily Solar Gains [kWh/m2]\")\n",
    "ax.legend([\"Solar Gains\"]);\n",
    "matplotlib.rc('font', **font)"
   ]
  },
  {
   "cell_type": "code",
   "execution_count": null,
   "metadata": {},
   "outputs": [],
   "source": []
  },
  {
   "cell_type": "code",
   "execution_count": null,
   "metadata": {},
   "outputs": [],
   "source": []
  }
 ],
 "metadata": {
  "kernelspec": {
   "display_name": "Python 3",
   "language": "python",
   "name": "python3"
  },
  "language_info": {
   "codemirror_mode": {
    "name": "ipython",
    "version": 3
   },
   "file_extension": ".py",
   "mimetype": "text/x-python",
   "name": "python",
   "nbconvert_exporter": "python",
   "pygments_lexer": "ipython3",
   "version": "3.6.10"
  }
 },
 "nbformat": 4,
 "nbformat_minor": 4
}
