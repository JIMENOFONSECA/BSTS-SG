{
 "cells": [
  {
   "cell_type": "code",
   "execution_count": null,
   "metadata": {},
   "outputs": [],
   "source": [
    "import pandas as pd\n",
    "import json\n",
    "import datetime\n",
    "import time\n",
    "import os\n",
    "import numpy as np\n",
    "import lightgbm as lgb\n",
    "from config import DATA_ENTHALPY_GRADIENTS_PROCESSED_FILE, DATA_BIM_RAW_FOLDER\n",
    "import matplotlib\n",
    "from enthalpygradients import EnthalpyGradient\n",
    "from daily_enthalpy_gradient_module import daily_enthalpy_gradients_hourly_data"
   ]
  },
  {
   "cell_type": "code",
   "execution_count": null,
   "metadata": {},
   "outputs": [],
   "source": [
    "gradients_output_data_path = DATA_ENTHALPY_GRADIENTS_PROCESSED_FILE"
   ]
  },
  {
   "cell_type": "code",
   "execution_count": null,
   "metadata": {},
   "outputs": [],
   "source": [
    "weather_data = pd.read_csv(os.path.join(DATA_BIM_RAW_FOLDER, \"weather2018.csv\"))\n",
    "weather_data = weather_data.append(pd.read_csv(os.path.join(DATA_BIM_RAW_FOLDER, \"weather2019.csv\")), ignore_index=True)"
   ]
  },
  {
   "cell_type": "code",
   "execution_count": null,
   "metadata": {},
   "outputs": [],
   "source": [
    "#get weather data\n",
    "weather_data['timestamp'] = pd.to_datetime(weather_data['timestamp'])\n",
    "weather_data = weather_data.set_index('timestamp', drop=False)\n",
    "weather_data"
   ]
  },
  {
   "cell_type": "code",
   "execution_count": null,
   "metadata": {},
   "outputs": [],
   "source": [
    "# local variables\n",
    "Temperature_base_C = 26\n",
    "Relative_humidity_base_perc = 70\n",
    "\n",
    "# Initialize class\n",
    "eg = EnthalpyGradient(Temperature_base_C, Relative_humidity_base_perc)\n",
    "\n",
    "# calculate enthalpy gradients for certain outdoor conditions for one year (8760 hours)\n",
    "Temperature_outdoor_C = weather_data['Temperature_C'].values\n",
    "Relative_humidity_outdoor_perc = weather_data['RH_%'].values\n",
    "\n",
    "## total specific thermal energy consumption\n",
    "how = 'hourly'\n",
    "type = 'dehumidification'\n",
    "q_dehum_kWh_m2 = eg.specific_thermal_consumption(Temperature_outdoor_C, Relative_humidity_outdoor_perc, how=how, type=type)\n",
    "type = 'cooling'\n",
    "q_cooling_kWh_m2 = eg.specific_thermal_consumption(Temperature_outdoor_C, Relative_humidity_outdoor_perc, how=how, type=type)"
   ]
  },
  {
   "cell_type": "code",
   "execution_count": null,
   "metadata": {},
   "outputs": [],
   "source": [
    "weather_data['q_total_kWh_m2'] = q_dehum_kWh_m2 + q_cooling_kWh_m2"
   ]
  },
  {
   "cell_type": "code",
   "execution_count": null,
   "metadata": {},
   "outputs": [],
   "source": [
    "result = weather_data.resample('D').sum()\n",
    "result['consumption'] = result['q_total_kWh_m2'] * 100 #typical area\n",
    "ax = result[['consumption']].plot(legend=False)\n",
    "font = {'family' : 'Arial',\n",
    "        'size'   : 18}\n",
    "ax.set_xlabel(\"\")\n",
    "ax.set_ylabel(\"Daily Consumption [kWh]\")\n",
    "matplotlib.rc('font', **font)"
   ]
  },
  {
   "cell_type": "code",
   "execution_count": null,
   "metadata": {},
   "outputs": [],
   "source": []
  },
  {
   "cell_type": "code",
   "execution_count": null,
   "metadata": {},
   "outputs": [],
   "source": [
    "#this gates saved\n",
    "daily_enthalpy_gradients['consumption'] = daily_enthalpy_gradients_hourly_data(weather_data.index, weather_data['Temperature_C'].values, weather_data['RH_%'].values)\n",
    "daily_enthalpy_gradients\n",
    "daily_enthalpy_gradients['timestamp'] = daily_enthalpy_gradients.index\n",
    "daily_enthalpy_gradients[['timestamp', 'DEG_C_kJperKg', 'DEG_DEHUM_kJperKg']].to_csv(gradients_output_data_path, index=False)"
   ]
  },
  {
   "cell_type": "code",
   "execution_count": null,
   "metadata": {},
   "outputs": [],
   "source": [
    "len(q_total_kWh_m2)"
   ]
  },
  {
   "cell_type": "code",
   "execution_count": null,
   "metadata": {},
   "outputs": [],
   "source": [
    "daily_enthalpy_gradients"
   ]
  },
  {
   "cell_type": "code",
   "execution_count": null,
   "metadata": {},
   "outputs": [],
   "source": []
  }
 ],
 "metadata": {
  "kernelspec": {
   "display_name": "Python 3",
   "language": "python",
   "name": "python3"
  },
  "language_info": {
   "codemirror_mode": {
    "name": "ipython",
    "version": 3
   },
   "file_extension": ".py",
   "mimetype": "text/x-python",
   "name": "python",
   "nbconvert_exporter": "python",
   "pygments_lexer": "ipython3",
   "version": "3.6.10"
  }
 },
 "nbformat": 4,
 "nbformat_minor": 4
}
