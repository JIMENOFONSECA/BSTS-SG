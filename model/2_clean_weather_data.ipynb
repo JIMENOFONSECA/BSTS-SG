{
 "cells": [
  {
   "cell_type": "code",
   "execution_count": null,
   "metadata": {},
   "outputs": [],
   "source": [
    "import pandas as pd\n",
    "import json\n",
    "import datetime\n",
    "import time\n",
    "import os\n",
    "import numpy as np\n",
    "import lightgbm as lgb\n",
    "from config import DATA_WEATHER_PROCESSED_FILE, DATA_BIM_RAW_FOLDER\n",
    "from lgbm_imputer import imputer\n",
    "import matplotlib"
   ]
  },
  {
   "cell_type": "code",
   "execution_count": null,
   "metadata": {},
   "outputs": [],
   "source": [
    "weather_data = pd.read_csv(os.path.join(DATA_BIM_RAW_FOLDER, \"weather2018.csv\"))\n",
    "weather_data = weather_data.append(pd.read_csv(os.path.join(DATA_BIM_RAW_FOLDER, \"weather2019.csv\")), ignore_index=True)\n",
    "weather_data"
   ]
  },
  {
   "cell_type": "code",
   "execution_count": null,
   "metadata": {},
   "outputs": [],
   "source": [
    "#get weather data\n",
    "weather_data['timestamp'] = pd.to_datetime(weather_data['timestamp'])\n",
    "weather_data = weather_data.set_index('timestamp', drop=False)\n",
    "weather_data"
   ]
  },
  {
   "cell_type": "code",
   "execution_count": null,
   "metadata": {},
   "outputs": [],
   "source": [
    "#calculate average values when possible and fill in\n",
    "df = weather_data.set_index('timestamp').resample('D').mean()\n",
    "df2 = weather_data.set_index('timestamp').resample('D').max()\n",
    "df3 = weather_data.set_index('timestamp').resample('D').min()\n",
    "df = df.merge(df2, left_index=True, right_index=True, suffixes=(\"\",\"_max\")).merge(df3, left_index=True, right_index=True, suffixes=(\"\",\"_min\"))\n",
    "df.reset_index(inplace=True)\n",
    "df"
   ]
  },
  {
   "cell_type": "code",
   "execution_count": null,
   "metadata": {},
   "outputs": [],
   "source": [
    "df.to_csv(DATA_WEATHER_PROCESSED_FILE, index=False)"
   ]
  },
  {
   "cell_type": "code",
   "execution_count": null,
   "metadata": {},
   "outputs": [],
   "source": []
  }
 ],
 "metadata": {
  "kernelspec": {
   "display_name": "Python 3",
   "language": "python",
   "name": "python3"
  },
  "language_info": {
   "codemirror_mode": {
    "name": "ipython",
    "version": 3
   },
   "file_extension": ".py",
   "mimetype": "text/x-python",
   "name": "python",
   "nbconvert_exporter": "python",
   "pygments_lexer": "ipython3",
   "version": "3.6.10"
  }
 },
 "nbformat": 4,
 "nbformat_minor": 4
}
