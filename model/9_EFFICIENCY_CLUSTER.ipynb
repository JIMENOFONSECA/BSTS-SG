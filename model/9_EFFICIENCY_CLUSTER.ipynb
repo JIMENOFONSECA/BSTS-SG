{
 "cells": [
  {
   "cell_type": "code",
   "execution_count": null,
   "metadata": {},
   "outputs": [],
   "source": [
    "import pandas as pd\n",
    "import json\n",
    "import datetime\n",
    "import time\n",
    "import os\n",
    "import numpy as np\n",
    "from config import DATA_CONSUMPTION_PROCESSED_FILE, DATA_CLUSTERS_FILE, DATA_METADATA_PROCESSED_FILE\n",
    "import matplotlib\n",
    "from sklearn import mixture"
   ]
  },
  {
   "cell_type": "code",
   "execution_count": null,
   "metadata": {},
   "outputs": [],
   "source": [
    "random_state = 170\n",
    "np.random.RandomState(random_state)"
   ]
  },
  {
   "cell_type": "code",
   "execution_count": null,
   "metadata": {},
   "outputs": [],
   "source": [
    "pre_intervention_period = ['2018-02-01', '2018-04-20']\n",
    "range_pre_intervention_period = pd.date_range(start=pre_intervention_period[0], end=pre_intervention_period[1], freq='D')\n",
    "range_pre_intervention_period"
   ]
  },
  {
   "cell_type": "code",
   "execution_count": null,
   "metadata": {},
   "outputs": [],
   "source": [
    "real_consumption_df = pd.read_csv(DATA_CONSUMPTION_PROCESSED_FILE)\n",
    "real_consumption_df['timestamp'] = pd.to_datetime(real_consumption_df['timestamp'])\n",
    "metadata_df = pd.read_excel(DATA_METADATA_PROCESSED_FILE, sheets='SENSORS')[['smapee','TREATMENT']]\n",
    "data = real_consumption_df.merge(metadata_df, left_on='smapee', right_on='smapee')\n",
    "data = data.drop_duplicates(['consumption_kWh','smapee','timestamp'])\n",
    "data = data.set_index('timestamp').groupby('smapee').resample('D').mean()\n",
    "data['smapee'] = data.index.get_level_values(0)\n",
    "data['timestamp'] = data.index.get_level_values(1)\n",
    "data = data.reset_index(drop=True)\n",
    "data = data[data['timestamp'].isin(range_pre_intervention_period)]\n",
    "data = data.groupby('smapee').mean()\n",
    "data"
   ]
  },
  {
   "cell_type": "code",
   "execution_count": null,
   "metadata": {},
   "outputs": [],
   "source": [
    "#get the No of clusters with the minimum akaike\n",
    "aic_list = []\n",
    "X_cluster = data['consumption_kWh'].values.reshape(-1, 1)\n",
    "cv_type = 'tied'\n",
    "n_componentssss = np.arange(1, 50)\n",
    "models = [mixture.GaussianMixture(n, covariance_type=cv_type, random_state=random_state).fit(X_cluster)\n",
    "                      for n in n_componentssss]\n",
    "aic_list = np.array([m.aic(X_cluster) for m in models])\n",
    "pd.DataFrame({\"a\":aic_list}).plot()"
   ]
  },
  {
   "cell_type": "code",
   "execution_count": null,
   "metadata": {},
   "outputs": [],
   "source": [
    "n_components = np.argmin(aic_list)\n",
    "n_components"
   ]
  },
  {
   "cell_type": "code",
   "execution_count": null,
   "metadata": {},
   "outputs": [],
   "source": [
    "def calc_clusters(data, n_components, random_state):\n",
    "    df = data.copy()\n",
    "    X_cluster = df['consumption_kWh'].values.reshape(-1, 1)\n",
    "    cv_type = 'tied'\n",
    "    gmm = mixture.GaussianMixture(n_components=n_components, covariance_type=cv_type, random_state=random_state)\n",
    "    gmm.fit(X_cluster)\n",
    "    means = gmm.means_.T[0]  # /gmm.means_.T[1]\n",
    "    \n",
    "    #predict for all the data\n",
    "    X_all = df[\"consumption_kWh\"].values.reshape(-1, 1)\n",
    "    cluster_labels = gmm.predict(X_all)\n",
    "    \n",
    "    df['CLUSTER_VALUES'] = [round(means[cluster], 2) for cluster in cluster_labels]\n",
    "    df['CLUSTER_ID'] = cluster_labels\n",
    "    return df"
   ]
  },
  {
   "cell_type": "code",
   "execution_count": null,
   "metadata": {},
   "outputs": [],
   "source": [
    "data_final = calc_clusters(data, n_components=n_components, random_state=random_state)\n",
    "data_final"
   ]
  },
  {
   "cell_type": "code",
   "execution_count": null,
   "metadata": {},
   "outputs": [],
   "source": [
    "data_final['CLUSTER_ID'].unique()"
   ]
  },
  {
   "cell_type": "code",
   "execution_count": null,
   "metadata": {},
   "outputs": [],
   "source": [
    "data_final[['CLUSTER_VALUES','CLUSTER_ID']].to_csv(DATA_CLUSTERS_FILE)"
   ]
  },
  {
   "cell_type": "code",
   "execution_count": null,
   "metadata": {},
   "outputs": [],
   "source": []
  }
 ],
 "metadata": {
  "kernelspec": {
   "display_name": "Python 3",
   "language": "python",
   "name": "python3"
  },
  "language_info": {
   "codemirror_mode": {
    "name": "ipython",
    "version": 3
   },
   "file_extension": ".py",
   "mimetype": "text/x-python",
   "name": "python",
   "nbconvert_exporter": "python",
   "pygments_lexer": "ipython3",
   "version": "3.6.10"
  }
 },
 "nbformat": 4,
 "nbformat_minor": 4
}
